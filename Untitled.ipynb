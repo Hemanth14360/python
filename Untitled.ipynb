{
 "cells": [
  {
   "cell_type": "markdown",
   "id": "1f5aaa25-0325-4d42-b6f0-c44e07a5fc6f",
   "metadata": {},
   "source": [
    "1)What is python\n",
    "  1)Python is a popular programming language\n",
    "  2)It is used for a variety of tasks\n",
    "  Python is a high-level, interpreted, object-oriented programming language"
   ]
  },
  {
   "cell_type": "markdown",
   "id": "9462b8e5-e105-432e-b9a4-9a120306f088",
   "metadata": {},
   "source": [
    "2)Why we need to use python\n",
    "  1)it is easy to learn\n",
    "  2)easier and simplier than other languages\n",
    "  3)it is commonly used for developing websites and software, task automation, data analysis, and data visualisation"
   ]
  },
  {
   "cell_type": "markdown",
   "id": "686d299f-ec20-43a0-bf54-15ef74319eb0",
   "metadata": {},
   "source": [
    "3)History of python\n",
    "  1) It was initially designed by Guido van Rossum in 1991\n",
    "  2) it is developed by Python Software Foundation\n",
    "  3) Python 3.12.6, documentation released on 6 September 2024.\r",
    "     \n",
    "Python 3.12.5, documentation released on 6 August 2024.     \r\n",
    "Python 3.12.4, documentation released on 6 June 2024     .\r\n",
    "Python 3.12.3, documentation released on 9 April 202     4.\r\n",
    "Python 3.12.2, documentation released on 6 February 2024."
   ]
  },
  {
   "cell_type": "markdown",
   "id": "493f709a-baff-432c-835e-84ca36ba1cd8",
   "metadata": {},
   "source": [
    "4)Applications of python\n",
    "  1)Data scientists and analysts use Python to collect, analyze, and manipulate data to find patterns, trends, and insights\n",
    "  2)Python is a reliable language for web development that doesn't cause performance issues.\n",
    "  3)Python is a popular language for image processing because of its efficiency and libraries that process images well.\n",
    " "
   ]
  },
  {
   "cell_type": "markdown",
   "id": "b2b85db0-a8e8-4476-918e-db5b134870af",
   "metadata": {},
   "source": [
    "5)explain about keywords and implementing\n",
    "  1)it  is a word that serves a specific function in Python\n",
    "  2)It is limited to one single function and it can not be set as a variable name\n",
    "  3)The purpose of the keyword is to define the syntax of the code\n",
    "   import keyword\n",
    "   python_keywords = keyword.kwlist\n",
    "   print (python_keywords)\n",
    "   len(python_keywords)\n",
    "   "
   ]
  },
  {
   "cell_type": "markdown",
   "id": "75e74223-9ab2-45ea-bdde-f6597b5a1793",
   "metadata": {},
   "source": [
    "6)explain in detail about variables with example\n",
    "  1)we cant use specail characters except_\n",
    "    _Hemanth=6\n",
    "  2)We cant use keywords\n",
    "     for = 6\n",
    "  3)we cant start with the numbers\n",
    "    6hemanth = 7"
   ]
  },
  {
   "cell_type": "markdown",
   "id": "c606cbc9-d675-48b8-8623-557049659fa6",
   "metadata": {},
   "source": [
    "7)explain about comments and example\n",
    "  1)Comments in Python are identified with a #\n",
    "  2)Hash characters in a string are not considered comments \n",
    "  3)There are three ways to write a comment - as a separate line, beside the corresponding statement of code, or as a multi-line comment block"
   ]
  }
 ],
 "metadata": {
  "kernelspec": {
   "display_name": "",
   "name": ""
  },
  "language_info": {
   "name": ""
  }
 },
 "nbformat": 4,
 "nbformat_minor": 5
}
